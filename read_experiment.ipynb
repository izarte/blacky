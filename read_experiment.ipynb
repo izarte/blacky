{
 "cells": [
  {
   "cell_type": "code",
   "execution_count": 1,
   "id": "de69b1c1",
   "metadata": {},
   "outputs": [
    {
     "name": "stderr",
     "output_type": "stream",
     "text": [
      "2025-07-23 18:34:27,406\tINFO worker.py:1927 -- Started a local Ray instance.\n"
     ]
    },
    {
     "ename": "AttributeError",
     "evalue": "module 'ray.tune' has no attribute 'list_experiments'",
     "output_type": "error",
     "traceback": [
      "\u001b[31m---------------------------------------------------------------------------\u001b[39m",
      "\u001b[31mAttributeError\u001b[39m                            Traceback (most recent call last)",
      "\u001b[36mCell\u001b[39m\u001b[36m \u001b[39m\u001b[32mIn[1]\u001b[39m\u001b[32m, line 12\u001b[39m\n\u001b[32m      9\u001b[39m     ray.init()\n\u001b[32m     11\u001b[39m \u001b[38;5;66;03m# Get the latest experiment\u001b[39;00m\n\u001b[32m---> \u001b[39m\u001b[32m12\u001b[39m experiments = \u001b[43mtune\u001b[49m\u001b[43m.\u001b[49m\u001b[43mlist_experiments\u001b[49m()\n\u001b[32m     13\u001b[39m \u001b[38;5;28;01mif\u001b[39;00m experiments:\n\u001b[32m     14\u001b[39m     latest_experiment = experiments[-\u001b[32m1\u001b[39m]\n",
      "\u001b[31mAttributeError\u001b[39m: module 'ray.tune' has no attribute 'list_experiments'"
     ]
    },
    {
     "name": "stderr",
     "output_type": "stream",
     "text": [
      "\u001b[33m(raylet)\u001b[0m [2025-07-23 18:35:27,586 E 225130 225130] (raylet) node_manager.cc:3041: 3 Workers (tasks / actors) killed due to memory pressure (OOM), 0 Workers crashed due to other reasons at node (ID: e8d52dceae11c3465ecdfaf292b285c92ca229f39ba637b4bbd50db9, IP: 192.168.1.151) over the last time period. To see more information about the Workers killed on this node, use `ray logs raylet.out -ip 192.168.1.151`\n",
      "\u001b[33m(raylet)\u001b[0m \n",
      "\u001b[33m(raylet)\u001b[0m Refer to the documentation on how to address the out of memory issue: https://docs.ray.io/en/latest/ray-core/scheduling/ray-oom-prevention.html. Consider provisioning more memory on this node or reducing task parallelism by requesting more CPUs per task. To adjust the kill threshold, set the environment variable `RAY_memory_usage_threshold` when starting Ray. To disable worker killing, set the environment variable `RAY_memory_monitor_refresh_ms` to zero.\n",
      "\u001b[33m(raylet)\u001b[0m [2025-07-23 18:38:27,592 E 225130 225130] (raylet) node_manager.cc:3041: 9 Workers (tasks / actors) killed due to memory pressure (OOM), 0 Workers crashed due to other reasons at node (ID: e8d52dceae11c3465ecdfaf292b285c92ca229f39ba637b4bbd50db9, IP: 192.168.1.151) over the last time period. To see more information about the Workers killed on this node, use `ray logs raylet.out -ip 192.168.1.151`\n",
      "\u001b[33m(raylet)\u001b[0m \n",
      "\u001b[33m(raylet)\u001b[0m Refer to the documentation on how to address the out of memory issue: https://docs.ray.io/en/latest/ray-core/scheduling/ray-oom-prevention.html. Consider provisioning more memory on this node or reducing task parallelism by requesting more CPUs per task. To adjust the kill threshold, set the environment variable `RAY_memory_usage_threshold` when starting Ray. To disable worker killing, set the environment variable `RAY_memory_monitor_refresh_ms` to zero.\n"
     ]
    }
   ],
   "source": [
    "import ray\n",
    "from ray import tune\n",
    "import pandas as pd\n",
    "import os\n",
    "import matplotlib.pyplot as plt\n",
    "\n",
    "# Initialize Ray if not already done\n",
    "if not ray.is_initialized():\n",
    "    ray.init()\n",
    "\n",
    "# Specify the experiment directory\n",
    "experiment_dir = \"/home/inigo/ray_results/Blackjack_PPO_AEC\"\n",
    "\n",
    "if os.path.exists(experiment_dir):\n",
    "    # Get all subdirectories (experiment runs) in the specified directory\n",
    "    experiment_runs = [d for d in os.listdir(experiment_dir) \n",
    "                      if os.path.isdir(os.path.join(experiment_dir, d))]\n",
    "    \n",
    "    if experiment_runs:\n",
    "        # Sort by modification time to get the latest\n",
    "        experiment_runs.sort(key=lambda x: os.path.getmtime(os.path.join(experiment_dir, x)))\n",
    "        latest_experiment_path = os.path.join(experiment_dir, experiment_runs[-1])\n",
    "        \n",
    "        print(f\"Latest experiment: {latest_experiment_path}\")\n",
    "        \n",
    "        # Load experiment results\n",
    "        analysis = tune.ExperimentAnalysis(latest_experiment_path)\n",
    "        \n",
    "        # Get results dataframe\n",
    "        results_df = analysis.results_df\n",
    "        print(f\"\\nExperiment has {len(results_df)} trials\")\n",
    "        \n",
    "        # Display basic info about the experiment\n",
    "        print(f\"Columns available: {list(results_df.columns)}\")\n",
    "        \n",
    "        # Show summary statistics\n",
    "        print(\"\\nSummary of key metrics:\")\n",
    "        numeric_cols = results_df.select_dtypes(include=['float64', 'int64']).columns\n",
    "        print(results_df[numeric_cols].describe())\n",
    "        \n",
    "        # Plot metrics if available\n",
    "        if len(numeric_cols) > 0:\n",
    "            fig, axes = plt.subplots(2, 2, figsize=(12, 8))\n",
    "            axes = axes.flatten()\n",
    "            \n",
    "            for i, col in enumerate(numeric_cols[:4]):  # Plot first 4 numeric columns\n",
    "                if i < len(axes):\n",
    "                    axes[i].plot(results_df[col])\n",
    "                    axes[i].set_title(f'{col} over trials')\n",
    "                    axes[i].set_xlabel('Trial')\n",
    "                    axes[i].set_ylabel(col)\n",
    "            \n",
    "            plt.tight_layout()\n",
    "            plt.show()\n",
    "        \n",
    "        # Display best trial\n",
    "        best_trial = analysis.get_best_trial()\n",
    "        if best_trial:\n",
    "            print(f\"\\nBest trial: {best_trial}\")\n",
    "            print(f\"Best trial config: {best_trial.config}\")\n",
    "            print(f\"Best trial metrics: {best_trial.last_result}\")\n",
    "    else:\n",
    "        print(f\"No experiment runs found in {experiment_dir}\")\n",
    "else:\n",
    "    print(f\"Directory {experiment_dir} does not exist.\")"
   ]
  }
 ],
 "metadata": {
  "kernelspec": {
   "display_name": "blacky",
   "language": "python",
   "name": "python3"
  },
  "language_info": {
   "codemirror_mode": {
    "name": "ipython",
    "version": 3
   },
   "file_extension": ".py",
   "mimetype": "text/x-python",
   "name": "python",
   "nbconvert_exporter": "python",
   "pygments_lexer": "ipython3",
   "version": "3.12.7"
  }
 },
 "nbformat": 4,
 "nbformat_minor": 5
}
