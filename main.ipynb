{
 "cells": [
  {
   "cell_type": "code",
   "execution_count": null,
   "id": "24cff206",
   "metadata": {},
   "outputs": [
    {
     "name": "stdout",
     "output_type": "stream",
     "text": [
      "Initial observation: None\n",
      "Observation type: <class 'NoneType'>\n",
      "\n",
      "Observation space: <bound method BlackjackEnv.observation_space of <environment.BlackjackEnv object at 0x787a38184260>>\n",
      "\n",
      "Sample observations from random actions:\n",
      "['player_0']\n",
      "0\n",
      "{'player_hand': array([27.,  3.,  0.], dtype=float32), 'dealer_card': array([5., 1., 0.], dtype=float32), 'visible_cards': array([[ 5.,  4.],\n",
      "       [ 7.,  4.],\n",
      "       [12.,  3.],\n",
      "       [13.,  3.],\n",
      "       [ 5.,  4.],\n",
      "       [ 9.,  3.],\n",
      "       [ 7.,  4.],\n",
      "       [12.,  3.],\n",
      "       [13.,  3.],\n",
      "       [ 0.,  0.],\n",
      "       [ 0.,  0.],\n",
      "       [ 0.,  0.],\n",
      "       [ 0.,  0.],\n",
      "       [ 0.,  0.],\n",
      "       [ 0.,  0.],\n",
      "       [ 0.,  0.],\n",
      "       [ 0.,  0.],\n",
      "       [ 0.,  0.],\n",
      "       [ 0.,  0.],\n",
      "       [ 0.,  0.],\n",
      "       [ 0.,  0.],\n",
      "       [ 0.,  0.],\n",
      "       [ 0.,  0.],\n",
      "       [ 0.,  0.],\n",
      "       [ 0.,  0.],\n",
      "       [ 0.,  0.],\n",
      "       [ 0.,  0.],\n",
      "       [ 0.,  0.],\n",
      "       [ 0.,  0.],\n",
      "       [ 0.,  0.]], dtype=float32)}\n"
     ]
    },
    {
     "ename": "NameError",
     "evalue": "name 'reward' is not defined",
     "output_type": "error",
     "traceback": [
      "\u001b[31m---------------------------------------------------------------------------\u001b[39m",
      "\u001b[31mNameError\u001b[39m                                 Traceback (most recent call last)",
      "\u001b[36mCell\u001b[39m\u001b[36m \u001b[39m\u001b[32mIn[4]\u001b[39m\u001b[32m, line 24\u001b[39m\n\u001b[32m     22\u001b[39m obs = env.observe(\u001b[33m\"\u001b[39m\u001b[33mplayer_0\u001b[39m\u001b[33m\"\u001b[39m)\n\u001b[32m     23\u001b[39m \u001b[38;5;28mprint\u001b[39m(obs)\n\u001b[32m---> \u001b[39m\u001b[32m24\u001b[39m \u001b[38;5;28mprint\u001b[39m(\u001b[33mf\u001b[39m\u001b[33m\"\u001b[39m\u001b[33mStep \u001b[39m\u001b[38;5;132;01m{\u001b[39;00mi+\u001b[32m1\u001b[39m\u001b[38;5;132;01m}\u001b[39;00m\u001b[33m: Action=\u001b[39m\u001b[38;5;132;01m{\u001b[39;00maction\u001b[38;5;132;01m}\u001b[39;00m\u001b[33m, Observation=\u001b[39m\u001b[38;5;132;01m{\u001b[39;00mobs\u001b[38;5;132;01m}\u001b[39;00m\u001b[33m, Reward=\u001b[39m\u001b[38;5;132;01m{\u001b[39;00m\u001b[43mreward\u001b[49m\u001b[38;5;132;01m}\u001b[39;00m\u001b[33m, Done=\u001b[39m\u001b[38;5;132;01m{\u001b[39;00mdone\u001b[38;5;132;01m}\u001b[39;00m\u001b[33m\"\u001b[39m)\n\u001b[32m     26\u001b[39m \u001b[38;5;28;01mif\u001b[39;00m done:\n\u001b[32m     27\u001b[39m     obs = env.reset()\n",
      "\u001b[31mNameError\u001b[39m: name 'reward' is not defined"
     ]
    }
   ],
   "source": [
    "import gymnasium as gym\n",
    "from environment import BlackjackEnv\n",
    "\n",
    "# Create an instance of BlackjackEnv\n",
    "env = BlackjackEnv()\n",
    "\n",
    "# Reset the environment to get initial observation\n",
    "obs = env.reset()\n",
    "print(\"Initial observation:\", obs)\n",
    "print(\"Observation type:\", type(obs))\n",
    "\n",
    "# Check the observation space\n",
    "print(\"\\nObservation space:\", env.observation_space)\n",
    "\n",
    "# Take a few random actions to see different observations\n",
    "print(\"\\nSample observations from random actions:\")\n",
    "for i in range(5):\n",
    "    print(env.agents)\n",
    "    action = env.action_space(\"player_0\").sample()  # Random action\n",
    "    print(action)\n",
    "    env.step(action)\n",
    "    obs = env.observe(\"player_0\")\n",
    "    print(obs)\n",
    "    print(f\"Step {i+1}: Action={action}, Observation={obs},\")"
   ]
  }
 ],
 "metadata": {
  "kernelspec": {
   "display_name": "blacky",
   "language": "python",
   "name": "python3"
  },
  "language_info": {
   "codemirror_mode": {
    "name": "ipython",
    "version": 3
   },
   "file_extension": ".py",
   "mimetype": "text/x-python",
   "name": "python",
   "nbconvert_exporter": "python",
   "pygments_lexer": "ipython3",
   "version": "3.12.7"
  }
 },
 "nbformat": 4,
 "nbformat_minor": 5
}
